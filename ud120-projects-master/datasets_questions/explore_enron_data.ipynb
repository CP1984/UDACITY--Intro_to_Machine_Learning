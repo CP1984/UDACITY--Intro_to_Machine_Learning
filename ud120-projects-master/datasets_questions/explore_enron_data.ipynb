{
 "cells": [
  {
   "cell_type": "code",
   "execution_count": 1,
   "metadata": {
    "collapsed": true
   },
   "outputs": [],
   "source": [
    "#!/usr/bin/python\n",
    "\n",
    "\"\"\" \n",
    "    Starter code for exploring the Enron dataset (emails + finances);\n",
    "    loads up the dataset (pickled dict of dicts).\n",
    "\n",
    "    The dataset has the form:\n",
    "    enron_data[\"LASTNAME FIRSTNAME MIDDLEINITIAL\"] = { features_dict }\n",
    "\n",
    "    {features_dict} is a dictionary of features associated with that person.\n",
    "    You should explore features_dict as part of the mini-project,\n",
    "    but here's an example to get you started:\n",
    "\n",
    "    enron_data[\"SKILLING JEFFREY K\"][\"bonus\"] = 5600000\n",
    "    \n",
    "\"\"\"\n",
    "\n",
    "import pickle\n",
    "\n",
    "enron_data = pickle.load(open(\"../final_project/final_project_dataset.pkl\", \"r\"))"
   ]
  },
  {
   "cell_type": "code",
   "execution_count": 2,
   "metadata": {
    "collapsed": false
   },
   "outputs": [
    {
     "name": "stdout",
     "output_type": "stream",
     "text": [
      "There are 146 data points in Enron dataset.\n"
     ]
    }
   ],
   "source": [
    "# Lesson 6, video 13, Size of the Enron Dataset\n",
    "dataPointsNumber = len(enron_data)\n",
    "print \"There are\", dataPointsNumber, \"data points in Enron dataset.\""
   ]
  },
  {
   "cell_type": "code",
   "execution_count": 3,
   "metadata": {
    "collapsed": false
   },
   "outputs": [
    {
     "name": "stdout",
     "output_type": "stream",
     "text": [
      "There are 21 available features in each data point.\n"
     ]
    }
   ],
   "source": [
    "# Lesson 6, video 14, Features in the Enron Dataset\n",
    "import random\n",
    "print \"There are\", len(enron_data[random.choice(enron_data.keys())]), \"available features in each data point.\""
   ]
  },
  {
   "cell_type": "code",
   "execution_count": 4,
   "metadata": {
    "collapsed": false
   },
   "outputs": [
    {
     "name": "stdout",
     "output_type": "stream",
     "text": [
      "There are 18 people in interest.\n"
     ]
    }
   ],
   "source": [
    "# Lesson 6, video 15, Finding POIs in the Enron Data\n",
    "interestCount = 0\n",
    "for person in enron_data:\n",
    "    if enron_data[person][\"poi\"] == 1:\n",
    "        interestCount = interestCount + 1\n",
    "\n",
    "print \"There are\", interestCount, \"people in interest.\""
   ]
  },
  {
   "cell_type": "code",
   "execution_count": 5,
   "metadata": {
    "collapsed": false
   },
   "outputs": [
    {
     "name": "stdout",
     "output_type": "stream",
     "text": [
      "There are 35 POIs in poi_names.txt file.\n"
     ]
    }
   ],
   "source": [
    "# Lesson 6, video 16, How Many POIs Exist?\n",
    "poi_names = open(\"../final_project/poi_names.txt\",\"r\")\n",
    "content = poi_names.readlines()\n",
    "for i, l in enumerate(content):\n",
    "    pass\n",
    "total_line = i + 1 # The total number of lines in file\n",
    "total_line = total_line - 2 # Subtract first line (web link) and second line (space line)\n",
    "print \"There are\", total_line, \"POIs in poi_names.txt file.\""
   ]
  },
  {
   "cell_type": "code",
   "execution_count": 6,
   "metadata": {
    "collapsed": false
   },
   "outputs": [
    {
     "name": "stdout",
     "output_type": "stream",
     "text": [
      "The total stock value belonging to James Prentice is 1095040\n"
     ]
    }
   ],
   "source": [
    "# Lesson 6, video 18, Query the Dataset 1\n",
    "answer_v17 = enron_data[\"PRENTICE JAMES\"][\"total_stock_value\"]\n",
    "print \"The total stock value belonging to James Prentice is\", answer_v17"
   ]
  },
  {
   "cell_type": "code",
   "execution_count": 7,
   "metadata": {
    "collapsed": false
   },
   "outputs": [
    {
     "name": "stdout",
     "output_type": "stream",
     "text": [
      "The numbers of email messages sent from Wesley Colwell to poi is 11\n"
     ]
    }
   ],
   "source": [
    "# Lesson 6, video 19, Query the Dataset 2\n",
    "answer_v18 = enron_data[\"COLWELL WESLEY\"][\"from_this_person_to_poi\"]\n",
    "print \"The numbers of email messages sent from Wesley Colwell to poi is\", answer_v18"
   ]
  },
  {
   "cell_type": "code",
   "execution_count": 8,
   "metadata": {
    "collapsed": false
   },
   "outputs": [
    {
     "name": "stdout",
     "output_type": "stream",
     "text": [
      "The value of stock options exercised by Jeffrey K Skilling is 19250000\n"
     ]
    }
   ],
   "source": [
    "# Lesson 6, video 19, Query the Dataset 3\n",
    "answer_v19 = enron_data[\"SKILLING JEFFREY K\"][\"exercised_stock_options\"]\n",
    "print \"The value of stock options exercised by Jeffrey K Skilling is\", answer_v19"
   ]
  },
  {
   "cell_type": "code",
   "execution_count": 9,
   "metadata": {
    "collapsed": false
   },
   "outputs": [
    {
     "name": "stdout",
     "output_type": "stream",
     "text": [
      "The total payments for Lay is 103559793\n",
      "The total payments for Skilling is 8682716\n",
      "The total payments for Fastow is 2424083\n"
     ]
    }
   ],
   "source": [
    "# Lesson 6, video 25, Follow the Money\n",
    "total_payments_Lay = enron_data[\"LAY KENNETH L\"][\"total_payments\"]\n",
    "total_payments_Skilling = enron_data[\"SKILLING JEFFREY K\"][\"total_payments\"]\n",
    "total_payments_Fastow = enron_data[\"FASTOW ANDREW S\"][\"total_payments\"]\n",
    "\n",
    "print \"The total payments for Lay is\", total_payments_Lay\n",
    "print \"The total payments for Skilling is\", total_payments_Skilling\n",
    "print \"The total payments for Fastow is\", total_payments_Fastow"
   ]
  },
  {
   "cell_type": "code",
   "execution_count": 10,
   "metadata": {
    "collapsed": false
   },
   "outputs": [
    {
     "name": "stdout",
     "output_type": "stream",
     "text": [
      "The number of folks having a quantified salary is 95\n",
      "The number of folks with a known email address is 111\n"
     ]
    }
   ],
   "source": [
    "# Lesson 6, video 27, Dealing with Unfilled Features\n",
    "numbers_quantified_salary = 0\n",
    "numbers_known_email = 0\n",
    "for person in enron_data:\n",
    "    if enron_data[person][\"salary\"] != \"NaN\":\n",
    "        numbers_quantified_salary = numbers_quantified_salary + 1\n",
    "    if enron_data[person][\"email_address\"] != \"NaN\":\n",
    "        numbers_known_email = numbers_known_email + 1\n",
    "\n",
    "print \"The number of folks having a quantified salary is\", numbers_quantified_salary\n",
    "print \"The number of folks with a known email address is\", numbers_known_email"
   ]
  },
  {
   "cell_type": "code",
   "execution_count": 11,
   "metadata": {
    "collapsed": false
   },
   "outputs": [
    {
     "name": "stdout",
     "output_type": "stream",
     "text": [
      "The number of people with NaN total payments in dataset is 21\n",
      "The percentage is 14.3835616438\n"
     ]
    }
   ],
   "source": [
    "# Lesson 6, video 29, Missing POIs 1 (optional)\n",
    "numbers_NaN_total_payments = 0\n",
    "\n",
    "for person in enron_data:\n",
    "    if enron_data[person][\"total_payments\"] == \"NaN\":\n",
    "        numbers_NaN_total_payments = numbers_NaN_total_payments + 1\n",
    "        \n",
    "print \"The number of people with NaN total payments in dataset is\", numbers_NaN_total_payments\n",
    "print \"The percentage is\", (float(numbers_NaN_total_payments) / len(enron_data) * 100)"
   ]
  },
  {
   "cell_type": "code",
   "execution_count": 12,
   "metadata": {
    "collapsed": false
   },
   "outputs": [
    {
     "name": "stdout",
     "output_type": "stream",
     "text": [
      "The percentage of POI with NaN total payments is 0.0\n"
     ]
    }
   ],
   "source": [
    "# Lesson 6, video 30, Missing POIs 2 (optional)\n",
    "\n",
    "number_poi = 0\n",
    "number_poi_with_NaN_total_payments = 0\n",
    "\n",
    "for person in enron_data:\n",
    "    if enron_data[person][\"poi\"] == 1:\n",
    "        number_poi = number_poi + 1\n",
    "        \n",
    "        if enron_data[person][\"total_payments\"] == \"NaN\":\n",
    "            number_poi_with_NaN_total_payments = number_poi_with_NaN_total_payments + 1\n",
    "\n",
    "print \"The percentage of POI with NaN total payments is\", float(number_poi_with_NaN_total_payments) / number_poi"
   ]
  }
 ],
 "metadata": {
  "kernelspec": {
   "display_name": "Python 2",
   "language": "python",
   "name": "python2"
  },
  "language_info": {
   "codemirror_mode": {
    "name": "ipython",
    "version": 2
   },
   "file_extension": ".py",
   "mimetype": "text/x-python",
   "name": "python",
   "nbconvert_exporter": "python",
   "pygments_lexer": "ipython2",
   "version": "2.7.11"
  }
 },
 "nbformat": 4,
 "nbformat_minor": 0
}
