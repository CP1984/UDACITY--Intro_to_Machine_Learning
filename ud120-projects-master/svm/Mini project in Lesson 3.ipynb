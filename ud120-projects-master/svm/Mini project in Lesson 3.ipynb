{
 "cells": [
  {
   "cell_type": "code",
   "execution_count": 1,
   "metadata": {},
   "outputs": [
    {
     "name": "stderr",
     "output_type": "stream",
     "text": [
      "C:\\Users\\CP1984\\Anaconda2\\lib\\site-packages\\sklearn\\cross_validation.py:41: DeprecationWarning: This module was deprecated in version 0.18 in favor of the model_selection module into which all the refactored classes and functions are moved. Also note that the interface of the new CV iterators are different from that of this module. This module will be removed in 0.20.\n",
      "  \"This module will be removed in 0.20.\", DeprecationWarning)\n"
     ]
    },
    {
     "name": "stdout",
     "output_type": "stream",
     "text": [
      "no. of Chris training emails: 7936\n",
      "no. of Sara training emails: 7884\n"
     ]
    }
   ],
   "source": [
    "#!/usr/bin/python\n",
    "\n",
    "\"\"\" \n",
    "    This is the code to accompany the Lesson 2 (SVM) mini-project.\n",
    "\n",
    "    Use a SVM to identify emails from the Enron corpus by their authors:    \n",
    "    Sara has label 0\n",
    "    Chris has label 1\n",
    "\"\"\"\n",
    "    \n",
    "import sys\n",
    "from time import time\n",
    "sys.path.append(\"../tools/\")\n",
    "from email_preprocess import preprocess\n",
    "\n",
    "\n",
    "### features_train and features_test are the features for the training\n",
    "### and testing datasets, respectively\n",
    "### labels_train and labels_test are the corresponding item labels\n",
    "features_train, features_test, labels_train, labels_test = preprocess()"
   ]
  },
  {
   "cell_type": "code",
   "execution_count": 2,
   "metadata": {
    "collapsed": true
   },
   "outputs": [],
   "source": [
    "#########################################################\n",
    "### your code goes here ###\n",
    "from sklearn.svm import SVC"
   ]
  },
  {
   "cell_type": "code",
   "execution_count": 3,
   "metadata": {},
   "outputs": [
    {
     "name": "stdout",
     "output_type": "stream",
     "text": [
      "Training time: 240.732 s\n",
      "Predicting time: 24.68 s\n",
      "The accuracy by using linear kernel is 0.984072810011\n"
     ]
    }
   ],
   "source": [
    "# Quiz: SVM Author ID Accuracy (video 28 in lesson 3)\n",
    "# Quiz: SVM Author ID Timing (video 29 in lesson 3)\n",
    "clf = SVC(kernel=\"linear\")\n",
    "\n",
    "t_start_fitting = time()\n",
    "clf.fit(features_train, labels_train)\n",
    "t_end_fitting = time()\n",
    "print \"Training time:\", round(t_end_fitting - t_start_fitting, 3), \"s\"\n",
    "\n",
    "t_start_predicting = time()\n",
    "pred = clf.predict(features_test)\n",
    "t_end_predicting = time()\n",
    "print \"Predicting time:\", round(t_end_predicting - t_start_predicting, 3), \"s\"\n",
    "\n",
    "accuracy = clf.score(features_test, labels_test)\n",
    "print \"The accuracy by using linear kernel is\", accuracy"
   ]
  },
  {
   "cell_type": "code",
   "execution_count": 4,
   "metadata": {},
   "outputs": [
    {
     "name": "stdout",
     "output_type": "stream",
     "text": [
      "The accuracy by using linear kernel and smaller training set is 0.884527872582\n"
     ]
    }
   ],
   "source": [
    "# Quiz: A Smaller Training Set (video 30 in lesson 3)\n",
    "\n",
    "features_train_small = features_train[:len(features_train)/100] \n",
    "labels_train_small = labels_train[:len(labels_train)/100] \n",
    "\n",
    "clf.fit(features_train_small, labels_train_small)\n",
    "accuracy = clf.score(features_test, labels_test)\n",
    "print \"The accuracy by using linear kernel and smaller training set is\", accuracy"
   ]
  },
  {
   "cell_type": "code",
   "execution_count": 5,
   "metadata": {},
   "outputs": [
    {
     "name": "stdout",
     "output_type": "stream",
     "text": [
      "The accuracy by using RBF kernel and smaller training set is 0.616040955631\n"
     ]
    }
   ],
   "source": [
    "# Quiz: Deploy an RBF Kernel (video 32 in lesson 3)\n",
    "\n",
    "clf = SVC(kernel=\"rbf\")\n",
    "clf.fit(features_train_small, labels_train_small)\n",
    "accuracy = clf.score(features_test, labels_test)\n",
    "print \"The accuracy by using RBF kernel and smaller training set is\", accuracy"
   ]
  },
  {
   "cell_type": "code",
   "execution_count": 6,
   "metadata": {},
   "outputs": [
    {
     "name": "stdout",
     "output_type": "stream",
     "text": [
      "The accuracy by using RBF kernel, smaller training set and C value 10.0 is 0.616040955631\n",
      "The accuracy by using RBF kernel, smaller training set and C value 100.0 is 0.616040955631\n",
      "The accuracy by using RBF kernel, smaller training set and C value 1000.0 is 0.821387940842\n",
      "The accuracy by using RBF kernel, smaller training set and C value 10000.0 is 0.892491467577\n"
     ]
    }
   ],
   "source": [
    "# Quiz: Optimize C Parameter (video 33 in lesson 3)\n",
    "c_list = [10.0, 100.0, 1000.0, 10000.0]\n",
    "accuracy = 0\n",
    "for c in c_list:\n",
    "    clf = SVC(kernel='rbf', C=c)\n",
    "    clf.fit(features_train_small, labels_train_small)\n",
    "    accuracy = clf.score(features_test, labels_test)\n",
    "    print \"The accuracy by using RBF kernel, smaller training set and C value\", c, \"is\", accuracy"
   ]
  },
  {
   "cell_type": "code",
   "execution_count": 7,
   "metadata": {},
   "outputs": [
    {
     "name": "stdout",
     "output_type": "stream",
     "text": [
      "The accuracy by using RBF kernel and C value 10000.0 is 0.990898748578\n"
     ]
    }
   ],
   "source": [
    "# Quiz: Optimized RBF vs. Linear SVM: Accuracy (video 35 in lesson 3)\n",
    "best_c = 10000.0\n",
    "clf = SVC(kernel='rbf', C=best_c)\n",
    "clf.fit(features_train, labels_train)\n",
    "accuracy = clf.score(features_test, labels_test)\n",
    "print \"The accuracy by using RBF kernel and C value\", c, \"is\", accuracy"
   ]
  },
  {
   "cell_type": "code",
   "execution_count": 8,
   "metadata": {
    "collapsed": true
   },
   "outputs": [],
   "source": [
    "# Quiz: How Many Chris Emails Predicted? (video 37 in lesson 3)\n",
    "prediction = clf.predict(features_test)"
   ]
  },
  {
   "cell_type": "code",
   "execution_count": 9,
   "metadata": {},
   "outputs": [
    {
     "name": "stdout",
     "output_type": "stream",
     "text": [
      "The number of test events predicted to be in the Chris class is 877\n",
      "The number of test events predicted to be in the Chris class is 881\n"
     ]
    }
   ],
   "source": [
    "print \"The number of test events predicted to be in the Chris class is\", sum(prediction)\n",
    "print \"The number of test events predicted to be in the Chris class is\", len(prediction) - sum(prediction)"
   ]
  },
  {
   "cell_type": "code",
   "execution_count": 10,
   "metadata": {},
   "outputs": [
    {
     "name": "stdout",
     "output_type": "stream",
     "text": [
      "The prediction of test sample # 10 is 1\n",
      "The prediction of test sample # 10 is 0\n",
      "The prediction of test sample # 10 is 1\n"
     ]
    }
   ],
   "source": [
    "# Quiz: Extracting Predictions from an SVM (video 36 in lesson 3)\n",
    "clf = SVC(kernel='rbf', C=10000.0)\n",
    "clf.fit(features_train_small, labels_train_small)\n",
    "prediction = clf.predict(features_test)\n",
    "print \"The prediction of test sample # 10 is\", prediction[10]\n",
    "print \"The prediction of test sample # 10 is\", prediction[26]\n",
    "print \"The prediction of test sample # 10 is\", prediction[50]"
   ]
  },
  {
   "cell_type": "code",
   "execution_count": null,
   "metadata": {
    "collapsed": true
   },
   "outputs": [],
   "source": []
  }
 ],
 "metadata": {
  "kernelspec": {
   "display_name": "Python 2",
   "language": "python",
   "name": "python2"
  },
  "language_info": {
   "codemirror_mode": {
    "name": "ipython",
    "version": 2
   },
   "file_extension": ".py",
   "mimetype": "text/x-python",
   "name": "python",
   "nbconvert_exporter": "python",
   "pygments_lexer": "ipython2",
   "version": "2.7.14"
  }
 },
 "nbformat": 4,
 "nbformat_minor": 1
}
